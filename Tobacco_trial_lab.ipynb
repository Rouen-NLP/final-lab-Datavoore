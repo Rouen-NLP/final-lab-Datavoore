{
 "cells": [
  {
   "cell_type": "markdown",
   "metadata": {},
   "source": [
    "# Tobacco trial classification\n",
    "In this notebook we will try to classify 13M~ documents into .. classes. \n",
    "\n",
    "The data is available in two different ways :\n",
    "    - Textual data \n",
    "    - Images of the documents\n",
    "    "
   ]
  },
  {
   "cell_type": "markdown",
   "metadata": {},
   "source": [
    "### Necessary import (Make sure you can run this before running the script )"
   ]
  },
  {
   "cell_type": "code",
   "execution_count": 15,
   "metadata": {},
   "outputs": [],
   "source": [
    "import pandas as pd\n",
    "import glob\n",
    "import numpy as np"
   ]
  },
  {
   "cell_type": "markdown",
   "metadata": {},
   "source": [
    "#### Opening metadata"
   ]
  },
  {
   "cell_type": "code",
   "execution_count": 18,
   "metadata": {},
   "outputs": [],
   "source": [
    "meta_data = pd.read_csv(\"data/Tobacco3482.csv\")\n",
    "# Here I'm extracting the label\n",
    "labels = np.unique(meta_data[\"label\"])"
   ]
  },
  {
   "cell_type": "code",
   "execution_count": 32,
   "metadata": {
    "scrolled": true
   },
   "outputs": [
    {
     "name": "stdout",
     "output_type": "stream",
     "text": [
      "Opening Advertisement data\n",
      "Opening Email data\n",
      "Opening Form data\n",
      "Opening Letter data\n",
      "Opening Memo data\n",
      "Opening News data\n",
      "Opening Note data\n",
      "Opening Report data\n",
      "Opening Resume data\n",
      "Opening Scientific data\n"
     ]
    }
   ],
   "source": [
    "x = []\n",
    "y = []\n",
    "for l in labels :\n",
    "    path = 'data/'+l+\"/*.txt\"\n",
    "    print(\"Opening \"+ l +\" data\")\n",
    "    files=glob.glob(path)   \n",
    "    for file in files:\n",
    "        f=open(file, 'r')  \n",
    "        x.append(f.read())\n",
    "        y.append(l)\n",
    "        f.close()"
   ]
  }
 ],
 "metadata": {
  "kernelspec": {
   "display_name": "Python 3",
   "language": "python",
   "name": "python3"
  },
  "language_info": {
   "codemirror_mode": {
    "name": "ipython",
    "version": 3
   },
   "file_extension": ".py",
   "mimetype": "text/x-python",
   "name": "python",
   "nbconvert_exporter": "python",
   "pygments_lexer": "ipython3",
   "version": "3.6.5"
  }
 },
 "nbformat": 4,
 "nbformat_minor": 2
}
